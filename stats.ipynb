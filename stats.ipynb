{
 "cells": [
  {
   "cell_type": "code",
   "execution_count": 2,
   "metadata": {
    "pycharm": {
     "is_executing": false
    }
   },
   "outputs": [
    {
     "name": "stdout",
     "text": [
      "z_05 = 3.5196317357436744, z_95 = 6.480368264256325\n"
     ],
     "output_type": "stream"
    }
   ],
   "source": [
    "from scipy.stats import norm\n",
    "\n",
    "mu = 5\n",
    "sigma = 0.9\n",
    "\n",
    "z_05 = norm.ppf(0.05, mu, sigma)\n",
    "z_95 = norm.ppf(0.95, mu, sigma)\n",
    "\n",
    "print(f\"z_05 = {z_05}, z_95 = {z_95}\")"
   ]
  },
  {
   "cell_type": "code",
   "execution_count": 3,
   "metadata": {
    "pycharm": {
     "is_executing": false
    }
   },
   "outputs": [
    {
     "name": "stdout",
     "text": [
      "Estimation of the mathematical expectation of the sample mu = [20.1488337641804, 35.845193698778]\n"
     ],
     "output_type": "stream"
    }
   ],
   "source": [
    "import math\n",
    "\n",
    "mu = 5\n",
    "sigma = 0.9\n",
    "D = 1\n",
    "X = [13.27543316, 18.60619498, 28.64266817, 45.4103895, 10.08409655,\n",
    "     44.91948425, 47.23376343, 33.03988962, 31.45570219, 3.089313523]\n",
    "\n",
    "# ppf for quantile\n",
    "alpha = 0.05\n",
    "n = len(X)\n",
    "exp_mean = 0\n",
    "\n",
    "for i in X:\n",
    "    exp_mean = exp_mean + i\n",
    "    \n",
    "z_alpha = norm.ppf(alpha, exp_mean/n, sigma)\n",
    "z_rev_alpha = norm.ppf(1-alpha, exp_mean/n, sigma)\n",
    "\n",
    "left_border = exp_mean/n - z_alpha*(math.sqrt(sigma**2/n))\n",
    "right_border = exp_mean/n + z_rev_alpha*(math.sqrt(sigma**2/n))\n",
    "print(f\"Estimation of the mathematical expectation of the sample mu = [{left_border}, {right_border}]\")"
   ]
  },
  {
   "cell_type": "code",
   "execution_count": 4,
   "metadata": {
    "pycharm": {
     "is_executing": false
    }
   },
   "outputs": [
    {
     "traceback": [
      "\u001b[0;31m---------------------------------------------------------------------------\u001b[0m",
      "\u001b[0;31mFileNotFoundError\u001b[0m                         Traceback (most recent call last)",
      "\u001b[0;32m<ipython-input-4-eb7fe4a78c6a>\u001b[0m in \u001b[0;36m<module>\u001b[0;34m\u001b[0m\n\u001b[1;32m      1\u001b[0m \u001b[0;32mimport\u001b[0m \u001b[0mpickle\u001b[0m\u001b[0;34m\u001b[0m\u001b[0;34m\u001b[0m\u001b[0m\n\u001b[1;32m      2\u001b[0m \u001b[0;34m\u001b[0m\u001b[0m\n\u001b[0;32m----> 3\u001b[0;31m \u001b[0;32mwith\u001b[0m \u001b[0mopen\u001b[0m\u001b[0;34m(\u001b[0m\u001b[0;34m'/Users/mig/Downloads/pool_sample.pkl'\u001b[0m\u001b[0;34m,\u001b[0m \u001b[0;34m'rb'\u001b[0m\u001b[0;34m)\u001b[0m \u001b[0;32mas\u001b[0m \u001b[0mf\u001b[0m\u001b[0;34m:\u001b[0m\u001b[0;34m\u001b[0m\u001b[0;34m\u001b[0m\u001b[0m\n\u001b[0m\u001b[1;32m      4\u001b[0m     \u001b[0mpool_data\u001b[0m \u001b[0;34m=\u001b[0m \u001b[0mpickle\u001b[0m\u001b[0;34m.\u001b[0m\u001b[0mload\u001b[0m\u001b[0;34m(\u001b[0m\u001b[0mf\u001b[0m\u001b[0;34m)\u001b[0m\u001b[0;34m\u001b[0m\u001b[0;34m\u001b[0m\u001b[0m\n\u001b[1;32m      5\u001b[0m \u001b[0;34m\u001b[0m\u001b[0m\n",
      "\u001b[0;31mFileNotFoundError\u001b[0m: [Errno 2] No such file or directory: '/Users/mig/Downloads/pool_sample.pkl'"
     ],
     "ename": "FileNotFoundError",
     "evalue": "[Errno 2] No such file or directory: '/Users/mig/Downloads/pool_sample.pkl'",
     "output_type": "error"
    }
   ],
   "source": [
    "import pickle\n",
    "\n",
    "with open('/Users/vlad/Downloads/pool_sample.pkl', 'rb') as f:\n",
    "    pool_data = pickle.load(f)\n",
    "\n",
    "t = 0\n",
    "f = 0\n",
    "\n",
    "for i in pool_data:\n",
    "    if i == 1 :\n",
    "        t = t + 1\n",
    "    else:\n",
    "        f = f + 1\n",
    "\n",
    "conversion = t/(t+f)\n",
    "\n",
    "print(conversion)\n",
    "\n",
    "# --------------------"
   ]
  },
  {
   "cell_type": "code",
   "execution_count": null,
   "metadata": {
    "pycharm": {
     "is_executing": false
    }
   },
   "outputs": [],
   "source": [
    "def representative_sample_size(alpha, delta, p=None):\n",
    "    \"\"\"Функция для расчёта объёма репрезентативной выборки\n",
    "    \n",
    "    :param alpha: уровень доверия\n",
    "    :param delta: точность\n",
    "    :param p (list | int | None): теоретическая вероятность успеха \n",
    "    :return: \n",
    "    \"\"\"\n",
    "    \n",
    "    if not p:\n",
    "        p = 1/2\n",
    "    n = ((norm.ppf(1-alpha/2)/delta)**2)*p*(1-p)\n",
    "    \n",
    "    return n\n",
    "\n",
    "representative_sample_size(alpha=0.05, delta=0.03)"
   ]
  },
  {
   "cell_type": "code",
   "execution_count": null,
   "metadata": {
    "pycharm": {
     "is_executing": false
    }
   },
   "outputs": [],
   "source": [
    "p = 0.7\n",
    "\n",
    "pool_data = bernoulli.rvs(p, size=int(representative_sample_size(alpha=0.05, delta=0.03, p=p)))\n",
    "\n",
    "t = 0\n",
    "f = 0\n",
    "\n",
    "for i in pool_data:\n",
    "    if(i == 1):\n",
    "        t = t + 1\n",
    "    else:\n",
    "        f = f + 1\n",
    "\n",
    "conversion = t/(t+f)\n",
    "\n",
    "print(conversion)\n"
   ]
  },
  {
   "cell_type": "code",
   "execution_count": null,
   "metadata": {
    "pycharm": {
     "is_executing": false
    }
   },
   "outputs": [],
   "source": [
    "# Sample size\n",
    "n = 25\n",
    "# Standard deviation\n",
    "sigma = 0.5\n",
    "# Trust level\n",
    "alpha = 0.95\n",
    "# Quantile value\n",
    "z_095 = norm.ppf(alpha)\n",
    "# The average value in the population\n",
    "global_mean = 3.075\n",
    "# The average value in experiment\n",
    "sample_mean = 2.8\n",
    "# Do stat...\n",
    "Z_x = (global_mean - sample_mean)/(sigma/(math.sqrt(n)))\n",
    "# Critical area:\n",
    "Z_critical = 2.0423\n",
    "print(\"Is the deviation significant {}\".format(Z_x > Z_critical))\n"
   ]
  },
  {
   "cell_type": "code",
   "execution_count": null,
   "metadata": {
    "pycharm": {
     "name": "#%%\n",
     "is_executing": false
    }
   },
   "outputs": [],
   "source": [
    "# banner 1\n",
    "n1_click = 10000\n",
    "n1_installs = 500\n",
    "\n",
    "# banner 2\n",
    "n2_click = 10500\n",
    "n2_installs = 440\n",
    "\n",
    "# ctr\n",
    "p1 = n1_installs/n1_click\n",
    "p2 = n2_installs/n2_click\n",
    "\n",
    "p = ((p1*n1_click + p2*n2_click)/(n1_click + n2_click))\n",
    "\n",
    "# The value of the criterion statistics\n",
    "T_x = ((p1-p2)/math.sqrt(p*(1-p)*((1/n1_click) + (1/n2_click))))\n",
    "\n",
    "# Quantile level 0.95 normal distribution\n",
    "z_095 = norm.ppf(0.95)\n",
    "\n",
    "print(\"Is the null hypothesis of equal shares true: {}\".format(T_x > z_095))"
   ]
  }
 ],
 "metadata": {
  "kernelspec": {
   "display_name": "Python 3",
   "language": "python",
   "name": "python3"
  },
  "language_info": {
   "codemirror_mode": {
    "name": "ipython",
    "version": 3
   },
   "file_extension": ".py",
   "mimetype": "text/x-python",
   "name": "python",
   "nbconvert_exporter": "python",
   "pygments_lexer": "ipython3",
   "version": "3.7.4"
  },
  "pycharm": {
   "stem_cell": {
    "cell_type": "raw",
    "source": [],
    "metadata": {
     "collapsed": false
    }
   }
  }
 },
 "nbformat": 4,
 "nbformat_minor": 4
}